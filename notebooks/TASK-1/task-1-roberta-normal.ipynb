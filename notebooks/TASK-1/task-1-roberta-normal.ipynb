{
  "nbformat": 4,
  "nbformat_minor": 0,
  "metadata": {
    "colab": {
      "provenance": [],
      "gpuType": "T4"
    },
    "kernelspec": {
      "name": "python3",
      "display_name": "Python 3"
    },
    "language_info": {
      "name": "python"
    },
    "accelerator": "GPU",
    "widgets": {
      "application/vnd.jupyter.widget-state+json": {
        "068a2a9527da4997b691b6eab2a2ea9a": {
          "model_module": "@jupyter-widgets/controls",
          "model_name": "HBoxModel",
          "model_module_version": "1.5.0",
          "state": {
            "_dom_classes": [],
            "_model_module": "@jupyter-widgets/controls",
            "_model_module_version": "1.5.0",
            "_model_name": "HBoxModel",
            "_view_count": null,
            "_view_module": "@jupyter-widgets/controls",
            "_view_module_version": "1.5.0",
            "_view_name": "HBoxView",
            "box_style": "",
            "children": [
              "IPY_MODEL_d420c421047d4d23a37022b929f280b2",
              "IPY_MODEL_58081ed1260d42039955d1fb3d61859f",
              "IPY_MODEL_fc24b35629f4481fb8afbe5016fd14ef"
            ],
            "layout": "IPY_MODEL_bcdaacaa35fc40b1a48c064273b392c9"
          }
        },
        "d420c421047d4d23a37022b929f280b2": {
          "model_module": "@jupyter-widgets/controls",
          "model_name": "HTMLModel",
          "model_module_version": "1.5.0",
          "state": {
            "_dom_classes": [],
            "_model_module": "@jupyter-widgets/controls",
            "_model_module_version": "1.5.0",
            "_model_name": "HTMLModel",
            "_view_count": null,
            "_view_module": "@jupyter-widgets/controls",
            "_view_module_version": "1.5.0",
            "_view_name": "HTMLView",
            "description": "",
            "description_tooltip": null,
            "layout": "IPY_MODEL_6f068bdcfc504cc2ab29a369364106b5",
            "placeholder": "​",
            "style": "IPY_MODEL_7496f73e21544bd1b7950fed9ea11a68",
            "value": "model.safetensors: 100%"
          }
        },
        "58081ed1260d42039955d1fb3d61859f": {
          "model_module": "@jupyter-widgets/controls",
          "model_name": "FloatProgressModel",
          "model_module_version": "1.5.0",
          "state": {
            "_dom_classes": [],
            "_model_module": "@jupyter-widgets/controls",
            "_model_module_version": "1.5.0",
            "_model_name": "FloatProgressModel",
            "_view_count": null,
            "_view_module": "@jupyter-widgets/controls",
            "_view_module_version": "1.5.0",
            "_view_name": "ProgressView",
            "bar_style": "success",
            "description": "",
            "description_tooltip": null,
            "layout": "IPY_MODEL_9b6149a5915a4532bac849f5d5467599",
            "max": 498818054,
            "min": 0,
            "orientation": "horizontal",
            "style": "IPY_MODEL_7d93bd41d3434ef6b0c2621a062cf24f",
            "value": 498818054
          }
        },
        "fc24b35629f4481fb8afbe5016fd14ef": {
          "model_module": "@jupyter-widgets/controls",
          "model_name": "HTMLModel",
          "model_module_version": "1.5.0",
          "state": {
            "_dom_classes": [],
            "_model_module": "@jupyter-widgets/controls",
            "_model_module_version": "1.5.0",
            "_model_name": "HTMLModel",
            "_view_count": null,
            "_view_module": "@jupyter-widgets/controls",
            "_view_module_version": "1.5.0",
            "_view_name": "HTMLView",
            "description": "",
            "description_tooltip": null,
            "layout": "IPY_MODEL_47df9d77bf0e49058d55e8a360926b9a",
            "placeholder": "​",
            "style": "IPY_MODEL_7e10f6dece384b95b14a70688db2b377",
            "value": " 499M/499M [00:07&lt;00:00, 112MB/s]"
          }
        },
        "bcdaacaa35fc40b1a48c064273b392c9": {
          "model_module": "@jupyter-widgets/base",
          "model_name": "LayoutModel",
          "model_module_version": "1.2.0",
          "state": {
            "_model_module": "@jupyter-widgets/base",
            "_model_module_version": "1.2.0",
            "_model_name": "LayoutModel",
            "_view_count": null,
            "_view_module": "@jupyter-widgets/base",
            "_view_module_version": "1.2.0",
            "_view_name": "LayoutView",
            "align_content": null,
            "align_items": null,
            "align_self": null,
            "border": null,
            "bottom": null,
            "display": null,
            "flex": null,
            "flex_flow": null,
            "grid_area": null,
            "grid_auto_columns": null,
            "grid_auto_flow": null,
            "grid_auto_rows": null,
            "grid_column": null,
            "grid_gap": null,
            "grid_row": null,
            "grid_template_areas": null,
            "grid_template_columns": null,
            "grid_template_rows": null,
            "height": null,
            "justify_content": null,
            "justify_items": null,
            "left": null,
            "margin": null,
            "max_height": null,
            "max_width": null,
            "min_height": null,
            "min_width": null,
            "object_fit": null,
            "object_position": null,
            "order": null,
            "overflow": null,
            "overflow_x": null,
            "overflow_y": null,
            "padding": null,
            "right": null,
            "top": null,
            "visibility": null,
            "width": null
          }
        },
        "6f068bdcfc504cc2ab29a369364106b5": {
          "model_module": "@jupyter-widgets/base",
          "model_name": "LayoutModel",
          "model_module_version": "1.2.0",
          "state": {
            "_model_module": "@jupyter-widgets/base",
            "_model_module_version": "1.2.0",
            "_model_name": "LayoutModel",
            "_view_count": null,
            "_view_module": "@jupyter-widgets/base",
            "_view_module_version": "1.2.0",
            "_view_name": "LayoutView",
            "align_content": null,
            "align_items": null,
            "align_self": null,
            "border": null,
            "bottom": null,
            "display": null,
            "flex": null,
            "flex_flow": null,
            "grid_area": null,
            "grid_auto_columns": null,
            "grid_auto_flow": null,
            "grid_auto_rows": null,
            "grid_column": null,
            "grid_gap": null,
            "grid_row": null,
            "grid_template_areas": null,
            "grid_template_columns": null,
            "grid_template_rows": null,
            "height": null,
            "justify_content": null,
            "justify_items": null,
            "left": null,
            "margin": null,
            "max_height": null,
            "max_width": null,
            "min_height": null,
            "min_width": null,
            "object_fit": null,
            "object_position": null,
            "order": null,
            "overflow": null,
            "overflow_x": null,
            "overflow_y": null,
            "padding": null,
            "right": null,
            "top": null,
            "visibility": null,
            "width": null
          }
        },
        "7496f73e21544bd1b7950fed9ea11a68": {
          "model_module": "@jupyter-widgets/controls",
          "model_name": "DescriptionStyleModel",
          "model_module_version": "1.5.0",
          "state": {
            "_model_module": "@jupyter-widgets/controls",
            "_model_module_version": "1.5.0",
            "_model_name": "DescriptionStyleModel",
            "_view_count": null,
            "_view_module": "@jupyter-widgets/base",
            "_view_module_version": "1.2.0",
            "_view_name": "StyleView",
            "description_width": ""
          }
        },
        "9b6149a5915a4532bac849f5d5467599": {
          "model_module": "@jupyter-widgets/base",
          "model_name": "LayoutModel",
          "model_module_version": "1.2.0",
          "state": {
            "_model_module": "@jupyter-widgets/base",
            "_model_module_version": "1.2.0",
            "_model_name": "LayoutModel",
            "_view_count": null,
            "_view_module": "@jupyter-widgets/base",
            "_view_module_version": "1.2.0",
            "_view_name": "LayoutView",
            "align_content": null,
            "align_items": null,
            "align_self": null,
            "border": null,
            "bottom": null,
            "display": null,
            "flex": null,
            "flex_flow": null,
            "grid_area": null,
            "grid_auto_columns": null,
            "grid_auto_flow": null,
            "grid_auto_rows": null,
            "grid_column": null,
            "grid_gap": null,
            "grid_row": null,
            "grid_template_areas": null,
            "grid_template_columns": null,
            "grid_template_rows": null,
            "height": null,
            "justify_content": null,
            "justify_items": null,
            "left": null,
            "margin": null,
            "max_height": null,
            "max_width": null,
            "min_height": null,
            "min_width": null,
            "object_fit": null,
            "object_position": null,
            "order": null,
            "overflow": null,
            "overflow_x": null,
            "overflow_y": null,
            "padding": null,
            "right": null,
            "top": null,
            "visibility": null,
            "width": null
          }
        },
        "7d93bd41d3434ef6b0c2621a062cf24f": {
          "model_module": "@jupyter-widgets/controls",
          "model_name": "ProgressStyleModel",
          "model_module_version": "1.5.0",
          "state": {
            "_model_module": "@jupyter-widgets/controls",
            "_model_module_version": "1.5.0",
            "_model_name": "ProgressStyleModel",
            "_view_count": null,
            "_view_module": "@jupyter-widgets/base",
            "_view_module_version": "1.2.0",
            "_view_name": "StyleView",
            "bar_color": null,
            "description_width": ""
          }
        },
        "47df9d77bf0e49058d55e8a360926b9a": {
          "model_module": "@jupyter-widgets/base",
          "model_name": "LayoutModel",
          "model_module_version": "1.2.0",
          "state": {
            "_model_module": "@jupyter-widgets/base",
            "_model_module_version": "1.2.0",
            "_model_name": "LayoutModel",
            "_view_count": null,
            "_view_module": "@jupyter-widgets/base",
            "_view_module_version": "1.2.0",
            "_view_name": "LayoutView",
            "align_content": null,
            "align_items": null,
            "align_self": null,
            "border": null,
            "bottom": null,
            "display": null,
            "flex": null,
            "flex_flow": null,
            "grid_area": null,
            "grid_auto_columns": null,
            "grid_auto_flow": null,
            "grid_auto_rows": null,
            "grid_column": null,
            "grid_gap": null,
            "grid_row": null,
            "grid_template_areas": null,
            "grid_template_columns": null,
            "grid_template_rows": null,
            "height": null,
            "justify_content": null,
            "justify_items": null,
            "left": null,
            "margin": null,
            "max_height": null,
            "max_width": null,
            "min_height": null,
            "min_width": null,
            "object_fit": null,
            "object_position": null,
            "order": null,
            "overflow": null,
            "overflow_x": null,
            "overflow_y": null,
            "padding": null,
            "right": null,
            "top": null,
            "visibility": null,
            "width": null
          }
        },
        "7e10f6dece384b95b14a70688db2b377": {
          "model_module": "@jupyter-widgets/controls",
          "model_name": "DescriptionStyleModel",
          "model_module_version": "1.5.0",
          "state": {
            "_model_module": "@jupyter-widgets/controls",
            "_model_module_version": "1.5.0",
            "_model_name": "DescriptionStyleModel",
            "_view_count": null,
            "_view_module": "@jupyter-widgets/base",
            "_view_module_version": "1.2.0",
            "_view_name": "StyleView",
            "description_width": ""
          }
        }
      }
    }
  },
  "cells": [
    {
      "cell_type": "code",
      "source": [
        "from google.colab import drive\n",
        "drive.mount('/content/drive')"
      ],
      "metadata": {
        "colab": {
          "base_uri": "https://localhost:8080/"
        },
        "id": "-nMUF2v9mH_8",
        "outputId": "b11465ef-12d8-4251-8067-4ddd85560b25"
      },
      "execution_count": null,
      "outputs": [
        {
          "output_type": "stream",
          "name": "stdout",
          "text": [
            "Drive already mounted at /content/drive; to attempt to forcibly remount, call drive.mount(\"/content/drive\", force_remount=True).\n"
          ]
        }
      ]
    },
    {
      "cell_type": "code",
      "execution_count": null,
      "metadata": {
        "id": "AscdcMcfNzep"
      },
      "outputs": [],
      "source": [
        "from transformers import AutoTokenizer, RobertaModel, AdamW;\n",
        "\n",
        "import torch;\n",
        "import torch.nn as nn;\n",
        "import torch.nn.functional as F;\n",
        "import torch.optim as optim;\n",
        "from torch.utils.data import Dataset, DataLoader;"
      ]
    },
    {
      "cell_type": "code",
      "source": [
        "import os;\n",
        "import os.path;"
      ],
      "metadata": {
        "id": "-e_pP74qN6o2"
      },
      "execution_count": null,
      "outputs": []
    },
    {
      "cell_type": "code",
      "source": [
        "import numpy as np;\n",
        "import matplotlib.pyplot as plt;\n",
        "\n",
        "import statistics;"
      ],
      "metadata": {
        "id": "jfkpy4hFN6rn"
      },
      "execution_count": null,
      "outputs": []
    },
    {
      "cell_type": "code",
      "source": [
        "device = torch.device('cuda' if torch.cuda.is_available() else 'cpu');\n",
        "print(device);"
      ],
      "metadata": {
        "colab": {
          "base_uri": "https://localhost:8080/"
        },
        "id": "VN9b-ZozN6yv",
        "outputId": "01367609-cd39-4ae8-b106-9a963c14d67d"
      },
      "execution_count": null,
      "outputs": [
        {
          "output_type": "stream",
          "name": "stdout",
          "text": [
            "cpu\n"
          ]
        }
      ]
    },
    {
      "cell_type": "code",
      "source": [
        "\"\"\"\n",
        "    Using bert model for downstream classification task.\n",
        "\"\"\"\n",
        "\n",
        "class ROBERTaClassifier(nn.Module):\n",
        "    def __init__(self, model_name, num_classes):\n",
        "        super(ROBERTaClassifier, self).__init__();\n",
        "        self.bert = RobertaModel.from_pretrained(model_name);\n",
        "        self.dropout = nn.Dropout(p=0.2);\n",
        "        self.fc = nn.Linear(self.bert.config.hidden_size, num_classes);\n",
        "\n",
        "    def forward(self, input_ids, attention_mask):\n",
        "        output = self.bert(input_ids=input_ids, attention_mask=attention_mask);\n",
        "        output = self.dropout(output.pooler_output);\n",
        "        output = self.fc(output);\n",
        "        return output;"
      ],
      "metadata": {
        "id": "CznWbpK7N60w"
      },
      "execution_count": null,
      "outputs": []
    },
    {
      "cell_type": "code",
      "source": [
        "roberta_model_name = 'FacebookAI/roberta-base';\n",
        "num_classes = 3;\n",
        "max_length = 512;\n",
        "batch_size = 16;\n",
        "epochs = 3;\n",
        "learning_rate = 1e-5;"
      ],
      "metadata": {
        "id": "W2-YSdg1N63D"
      },
      "execution_count": null,
      "outputs": []
    },
    {
      "cell_type": "code",
      "source": [
        "tokenizer = AutoTokenizer.from_pretrained(roberta_model_name);"
      ],
      "metadata": {
        "id": "Oc8OAAuXOB4R"
      },
      "execution_count": null,
      "outputs": []
    },
    {
      "cell_type": "code",
      "source": [
        "class Dataset(nn.Module):\n",
        "    def __init__(self,path_x,path_y,max_length):\n",
        "\n",
        "        self.max_length = max_length;\n",
        "\n",
        "        if not os.path.exists(path_x):\n",
        "            raise FileNotFoundError(path_x);\n",
        "        if not os.path.exists(path_y):\n",
        "            raise FileNotFoundError(path_y);\n",
        "\n",
        "        with open(path_x,'r') as f:\n",
        "            self.x = f.readlines();\n",
        "\n",
        "        with open(path_y,'r') as f:\n",
        "            self.y = f.readlines();\n",
        "\n",
        "        if len(self.x) != len(self.y):\n",
        "            raise ValueError(\"x and y must have same length\");\n",
        "\n",
        "    def __len__(self):\n",
        "        return len(self.x);\n",
        "\n",
        "    def __getitem__(self,idx):\n",
        "        x = self.x[idx];\n",
        "        y = self.y[idx];\n",
        "        output = tokenizer(x, max_length=self.max_length, padding='max_length', truncation=True, return_tensors='pt');\n",
        "        return {\n",
        "            'input_ids': output['input_ids'].flatten(),\n",
        "            'attention_mask': output['attention_mask'].flatten(),\n",
        "            'label' : torch.tensor(int(self.y[idx]))\n",
        "        };"
      ],
      "metadata": {
        "id": "lFgQ6KhROL6Z"
      },
      "execution_count": null,
      "outputs": []
    },
    {
      "cell_type": "code",
      "source": [
        "train_dataset = Dataset('/content/drive/MyDrive/Webis/DATA/trainset_cmb.txt',\n",
        "                        '/content/drive/MyDrive/Webis/y_train.txt',max_length);\n",
        "\n",
        "val_dataset = Dataset('/content/drive/MyDrive/Webis/DATA/valset_cmb.txt',\n",
        "                      '/content/drive/MyDrive/Webis/y_val.txt',max_length);\n",
        "\n",
        "train_loader = DataLoader(train_dataset,batch_size=batch_size,shuffle=True);\n",
        "val_loader = DataLoader(val_dataset,batch_size=batch_size,shuffle=True);"
      ],
      "metadata": {
        "id": "-LSjtx45ORE9"
      },
      "execution_count": null,
      "outputs": []
    },
    {
      "cell_type": "code",
      "source": [
        "model = ROBERTaClassifier(roberta_model_name, num_classes);\n",
        "model = model.to(device);\n",
        "optimizer = AdamW(model.parameters(), lr=learning_rate);\n",
        "criterion = nn.CrossEntropyLoss();"
      ],
      "metadata": {
        "colab": {
          "base_uri": "https://localhost:8080/",
          "height": 143,
          "referenced_widgets": [
            "068a2a9527da4997b691b6eab2a2ea9a",
            "d420c421047d4d23a37022b929f280b2",
            "58081ed1260d42039955d1fb3d61859f",
            "fc24b35629f4481fb8afbe5016fd14ef",
            "bcdaacaa35fc40b1a48c064273b392c9",
            "6f068bdcfc504cc2ab29a369364106b5",
            "7496f73e21544bd1b7950fed9ea11a68",
            "9b6149a5915a4532bac849f5d5467599",
            "7d93bd41d3434ef6b0c2621a062cf24f",
            "47df9d77bf0e49058d55e8a360926b9a",
            "7e10f6dece384b95b14a70688db2b377"
          ]
        },
        "id": "VZ-BTOQoOMHS",
        "outputId": "0bd95619-0afb-4f9b-9be4-622c2fbc4bab"
      },
      "execution_count": null,
      "outputs": [
        {
          "output_type": "display_data",
          "data": {
            "text/plain": [
              "model.safetensors:   0%|          | 0.00/499M [00:00<?, ?B/s]"
            ],
            "application/vnd.jupyter.widget-view+json": {
              "version_major": 2,
              "version_minor": 0,
              "model_id": "068a2a9527da4997b691b6eab2a2ea9a"
            }
          },
          "metadata": {}
        },
        {
          "output_type": "stream",
          "name": "stderr",
          "text": [
            "Some weights of RobertaModel were not initialized from the model checkpoint at FacebookAI/roberta-base and are newly initialized: ['roberta.pooler.dense.bias', 'roberta.pooler.dense.weight']\n",
            "You should probably TRAIN this model on a down-stream task to be able to use it for predictions and inference.\n",
            "/usr/local/lib/python3.10/dist-packages/transformers/optimization.py:588: FutureWarning: This implementation of AdamW is deprecated and will be removed in a future version. Use the PyTorch implementation torch.optim.AdamW instead, or set `no_deprecation_warning=True` to disable this warning\n",
            "  warnings.warn(\n"
          ]
        }
      ]
    },
    {
      "cell_type": "code",
      "source": [
        "store_best_path = \"/content/drive/MyDrive/Webis/PARAM/\";"
      ],
      "metadata": {
        "id": "5oW0LmtHPOJw"
      },
      "execution_count": null,
      "outputs": []
    },
    {
      "cell_type": "code",
      "execution_count": null,
      "metadata": {
        "id": "P2GuIvJ6LQs9",
        "collapsed": true,
        "colab": {
          "base_uri": "https://localhost:8080/"
        },
        "outputId": "65ac08b4-e1d8-4f6b-adf0-700038d60c0e"
      },
      "outputs": [
        {
          "output_type": "stream",
          "name": "stdout",
          "text": [
            "Epoch[0][5] : Training Loss :1.004396259188652, Validation Loss :0.8806545841693878, Training Accuracy :0.4696875, Validation Accuracy :0.58625\n",
            "Epoch[1][5] : Training Loss :0.8235964277386665, Validation Loss :0.7117582589387894, Training Accuracy :0.62875, Validation Accuracy :0.70875\n",
            "Epoch[2][5] : Training Loss :0.63588563606143, Validation Loss :0.7227247554063797, Training Accuracy :0.7475, Validation Accuracy :0.69875\n",
            "Epoch[3][5] : Training Loss :0.45922989536076786, Validation Loss :0.6940214836597443, Training Accuracy :0.825, Validation Accuracy :0.74125\n",
            "Epoch[4][5] : Training Loss :0.3023847641795874, Validation Loss :0.910767655968666, Training Accuracy :0.891875, Validation Accuracy :0.69125\n"
          ]
        }
      ],
      "source": [
        "epochs = 5;\n",
        "\n",
        "train_loss = [];\n",
        "val_loss = [];\n",
        "train_acc = [];\n",
        "val_acc = [];\n",
        "\n",
        "for epoch in range(epochs):\n",
        "\n",
        "    train_loss_epoch = [];\n",
        "    val_loss_epoch = [];\n",
        "    train_acc_epoch = [];\n",
        "    val_acc_epoch = [];\n",
        "\n",
        "    model.train();\n",
        "    for batch in train_loader:\n",
        "        optimizer.zero_grad();\n",
        "\n",
        "        input_ids = batch['input_ids'].to(device);\n",
        "        attention_mask = batch['attention_mask'].to(device);\n",
        "        y = batch['label'].to(device);\n",
        "\n",
        "        output = model(input_ids,attention_mask);\n",
        "        loss = criterion(output,y);\n",
        "        loss.backward();\n",
        "        optimizer.step();\n",
        "\n",
        "        train_loss_epoch.append(loss.item());\n",
        "\n",
        "        accuracy = torch.argmax(output,dim=-1).view(-1) == y.view(-1);\n",
        "        train_acc_epoch.append((torch.sum(accuracy) / len(accuracy)).item());\n",
        "\n",
        "\n",
        "    model.eval();\n",
        "    with torch.no_grad():\n",
        "        for batch in val_loader:\n",
        "            input_ids = batch['input_ids'].to(device);\n",
        "            attention_mask = batch['attention_mask'].to(device);\n",
        "            y = batch['label'].to(device);\n",
        "\n",
        "            output = model(input_ids,attention_mask);\n",
        "            loss = criterion(output,y);\n",
        "\n",
        "            val_loss_epoch.append(loss.item());\n",
        "\n",
        "            accuracy = torch.argmax(output,dim=-1).view(-1) == y.view(-1);\n",
        "            val_acc_epoch.append((torch.sum(accuracy) / len(accuracy)).item());\n",
        "\n",
        "\n",
        "    print(f\"Epoch[{epoch}][{epochs}] : Training Loss :{statistics.mean(train_loss_epoch)}, Validation Loss :{statistics.mean(val_loss_epoch)}, \\\n",
        "Training Accuracy :{statistics.mean(train_acc_epoch)}, Validation Accuracy :{statistics.mean(val_acc_epoch)}\");\n",
        "\n",
        "    if len(val_loss) == 0 or statistics.mean(val_loss_epoch) < min(val_loss):\n",
        "        torch.save(model.state_dict(),store_best_path + 'roberta_wth_rouge_model.pt');\n",
        "\n",
        "    train_loss.append(statistics.mean(train_loss_epoch));\n",
        "    val_loss.append(statistics.mean(val_loss_epoch));\n",
        "    train_acc.append(statistics.mean(train_acc_epoch));\n",
        "    val_acc.append(statistics.mean(val_acc_epoch));"
      ]
    },
    {
      "cell_type": "code",
      "source": [],
      "metadata": {
        "id": "iu6HiDC-sFFz"
      },
      "execution_count": null,
      "outputs": []
    },
    {
      "cell_type": "code",
      "source": [],
      "metadata": {
        "id": "iZLmSNaXsFIu"
      },
      "execution_count": null,
      "outputs": []
    },
    {
      "cell_type": "code",
      "source": [
        "class Dataset(nn.Module):\n",
        "    def __init__(self,path_x,max_length):\n",
        "\n",
        "        self.max_length = max_length;\n",
        "\n",
        "        if not os.path.exists(path_x):\n",
        "            raise FileNotFoundError(path_x);\n",
        "\n",
        "        with open(path_x,'r') as f:\n",
        "            self.x = f.readlines();\n",
        "\n",
        "\n",
        "    def __len__(self):\n",
        "        return len(self.x);\n",
        "\n",
        "    def __getitem__(self,idx):\n",
        "        x = self.x[idx];\n",
        "        output = tokenizer(x, max_length=self.max_length, padding='max_length', truncation=True, return_tensors='pt');\n",
        "        return {\n",
        "            'input_ids': output['input_ids'].flatten(),\n",
        "            'attention_mask': output['attention_mask'].flatten(),\n",
        "        };"
      ],
      "metadata": {
        "id": "rtvZrEO6OMMg"
      },
      "execution_count": null,
      "outputs": []
    },
    {
      "cell_type": "code",
      "source": [
        "test_dataset = Dataset('/content/drive/MyDrive/Webis/DATA/testset_cmb.txt',\n",
        "                        max_length);\n",
        "\n",
        "test_dataloader = DataLoader(test_dataset,batch_size=8);"
      ],
      "metadata": {
        "id": "Wbi2N6U8sHcz"
      },
      "execution_count": null,
      "outputs": []
    },
    {
      "cell_type": "code",
      "source": [
        "model = ROBERTaClassifier(roberta_model_name, num_classes);\n",
        "model = model.to(device);\n",
        "model.load_state_dict(torch.load(store_best_path + 'roberta_wth_rouge_model.pt',map_location=device));"
      ],
      "metadata": {
        "colab": {
          "base_uri": "https://localhost:8080/"
        },
        "id": "67q9SHsStEaH",
        "outputId": "3dcd5827-61c0-42a9-8208-6c3ae60f8131"
      },
      "execution_count": null,
      "outputs": [
        {
          "output_type": "stream",
          "name": "stderr",
          "text": [
            "Some weights of RobertaModel were not initialized from the model checkpoint at FacebookAI/roberta-base and are newly initialized: ['roberta.pooler.dense.bias', 'roberta.pooler.dense.weight']\n",
            "You should probably TRAIN this model on a down-stream task to be able to use it for predictions and inference.\n"
          ]
        }
      ]
    },
    {
      "cell_type": "code",
      "source": [
        "test = []\n",
        "for batch in test_dataloader:\n",
        "  model.eval();\n",
        "\n",
        "  input_ids = batch['input_ids'].to(device);\n",
        "  attention_mask = batch['attention_mask'].to(device);\n",
        "\n",
        "  output = model(input_ids,attention_mask);\n",
        "  y_pred = torch.argmax(output,dim=-1);\n",
        "  test.append(y_pred);"
      ],
      "metadata": {
        "id": "qpq1a1e4skUO"
      },
      "execution_count": null,
      "outputs": []
    },
    {
      "cell_type": "code",
      "source": [
        "tmp = [];\n",
        "for batch in test:\n",
        "    for line in batch:\n",
        "        tmp.append(line.item());"
      ],
      "metadata": {
        "id": "hZbtor-gso4j"
      },
      "execution_count": null,
      "outputs": []
    },
    {
      "cell_type": "code",
      "source": [
        "id_to_label = {\n",
        "    0:\"passage\",\n",
        "    1:\"phrase\",\n",
        "    2:\"multi\"\n",
        "};"
      ],
      "metadata": {
        "id": "K3VlKUdQtOjC"
      },
      "execution_count": null,
      "outputs": []
    },
    {
      "cell_type": "code",
      "source": [
        "test_pred_label = [id_to_label[_] for _ in tmp];"
      ],
      "metadata": {
        "id": "dfQ1FZWttRxV"
      },
      "execution_count": null,
      "outputs": []
    },
    {
      "cell_type": "code",
      "source": [
        "data = {\n",
        "    \"id\":range(len(test_pred_label)),\n",
        "    \"spoilerType\":test_pred_label\n",
        "};"
      ],
      "metadata": {
        "id": "zJ-Ecn54tXOj"
      },
      "execution_count": null,
      "outputs": []
    },
    {
      "cell_type": "code",
      "source": [
        "import pandas as pd;"
      ],
      "metadata": {
        "id": "KR17t9Betinm"
      },
      "execution_count": null,
      "outputs": []
    },
    {
      "cell_type": "code",
      "source": [
        "df = pd.DataFrame(data);\n",
        "print(df);"
      ],
      "metadata": {
        "colab": {
          "base_uri": "https://localhost:8080/"
        },
        "id": "4j-qD5LvtXRR",
        "outputId": "c79e41be-d434-4805-f5d6-34f3511915e3"
      },
      "execution_count": null,
      "outputs": [
        {
          "output_type": "stream",
          "name": "stdout",
          "text": [
            "      id spoilerType\n",
            "0      0     passage\n",
            "1      1     passage\n",
            "2      2      phrase\n",
            "3      3      phrase\n",
            "4      4     passage\n",
            "..   ...         ...\n",
            "395  395     passage\n",
            "396  396      phrase\n",
            "397  397       multi\n",
            "398  398     passage\n",
            "399  399      phrase\n",
            "\n",
            "[400 rows x 2 columns]\n"
          ]
        }
      ]
    },
    {
      "cell_type": "code",
      "source": [
        "df.to_csv(\"/content/drive/MyDrive/Webis/DATA/roberta_submission.csv\",index=False);"
      ],
      "metadata": {
        "id": "J22TV0HltbvY"
      },
      "execution_count": null,
      "outputs": []
    },
    {
      "cell_type": "code",
      "source": [],
      "metadata": {
        "id": "Ofap-alvvjHg"
      },
      "execution_count": null,
      "outputs": []
    }
  ]
}